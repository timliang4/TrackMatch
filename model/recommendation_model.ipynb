{
 "cells": [
  {
   "cell_type": "markdown",
   "id": "69c284f9-40c2-407d-a03c-ab1db4b3a8e3",
   "metadata": {},
   "source": [
    "# Spotify Music Recommendation Model\n",
    "\n",
    "> Modeling recommendation relationships between spotify tracks using the Million Playlist dataset and graph theory.\n",
    "\n",
    "Feel free to explore this notebook's contents, as it is well-documented with explanations for most aspects of the model-building process.\n",
    "\n",
    "## Links\n",
    "\n",
    "<ul>\n",
    "    <li><a href=\"https://www.kaggle.com/datasets/himanshuwagh/spotify-million\">Million Playlist Dataset</a></li>\n",
    "</ul>"
   ]
  },
  {
   "cell_type": "code",
   "execution_count": 1,
   "id": "5e1de322-1ef8-4b1d-a49b-8b7a014baedc",
   "metadata": {},
   "outputs": [],
   "source": [
    "import numpy as np\n",
    "import os\n",
    "import json\n",
    "import rustworkx as rx\n",
    "import pickle"
   ]
  },
  {
   "cell_type": "markdown",
   "id": "5ae69818-7933-48a9-b712-265e2e5bf799",
   "metadata": {},
   "source": [
    "## Loading Data\n",
    "\n",
    "The most popular and diverse playlists are selected by checking if it has at least 5 followers and num_tracks / unique_artists is at least 2.\n",
    "\n",
    "The uriToData dictionary maps each track's URI (unique identifier) to its name, artist, and graph index. This is important because the graph will only store each track as an index and URI. \n",
    "\n",
    "The allPlaylists NumPy array stores all playlists as a 2D array, where each row is a playlist. To decrease memory usage, the tracks are stores as itheir graph indicies.\n",
    "\n",
    "<b>Note:</b> the data files are not provided in the GitHub repository (too large). You will have to download them from the dataset link."
   ]
  },
  {
   "cell_type": "code",
   "execution_count": 4,
   "id": "7d71100c-d08e-4e78-a059-f88ff92e6bab",
   "metadata": {},
   "outputs": [
    {
     "name": "stdout",
     "output_type": "stream",
     "text": [
      "CPU times: user 4min 52s, sys: 17.7 s, total: 5min 10s\n",
      "Wall time: 5min 15s\n"
     ]
    }
   ],
   "source": [
    "%%time\n",
    "\n",
    "files = os.listdir('./data')\n",
    "\n",
    "uriToData = {}\n",
    "numPlaylists = 0\n",
    "\n",
    "for file in files:\n",
    "    if file == '.DS_Store':\n",
    "        continue\n",
    "    with open(f\"./data/{file}\") as f:\n",
    "        d = json.load(f)\n",
    "        playlists = d[\"playlists\"]\n",
    "        for i in range(len(playlists)):\n",
    "            if playlists[i][\"num_followers\"] < 5:\n",
    "                continue\n",
    "            if playlists[i][\"num_tracks\"] > 70:\n",
    "                continue\n",
    "            if playlists[i][\"num_tracks\"] / playlists[i][\"num_artists\"] > 2:\n",
    "                continue\n",
    "            playlist = playlists[i][\"tracks\"]\n",
    "            numPlaylists += 1\n",
    "            for j in range(len(playlist)):\n",
    "                playlist[j][\"track_uri\"] = playlist[j][\"track_uri\"].split(':')[2]\n",
    "                if playlist[j][\"track_uri\"] not in uriToData:\n",
    "                    uriToData[playlist[j][\"track_uri\"]] = (len(uriToData), playlist[j][\"track_name\"], playlist[j][\"artist_name\"])\n",
    "\n",
    "allPlaylists = np.full((numPlaylists, 70), -1, dtype='int32')\n",
    "counter = 0\n",
    "\n",
    "for file in files:\n",
    "    if file == '.DS_Store':\n",
    "        continue\n",
    "    with open(f\"./data/{file}\") as f:\n",
    "        d = json.load(f)\n",
    "        playlists = d[\"playlists\"]\n",
    "        for i in range(len(playlists)):\n",
    "            if playlists[i][\"num_followers\"] < 5:\n",
    "                continue\n",
    "            if playlists[i][\"num_tracks\"] > 70:\n",
    "                continue\n",
    "            if playlists[i][\"num_tracks\"] / playlists[i][\"num_artists\"] > 2:\n",
    "                continue\n",
    "            playlist = playlists[i][\"tracks\"]\n",
    "            for j in range(len(playlist)):\n",
    "                allPlaylists[counter, j] = uriToData[playlist[j][\"track_uri\"].split(':')[2]][0]\n",
    "            counter += 1"
   ]
  },
  {
   "cell_type": "markdown",
   "id": "5f4aa440-48b3-4660-b352-c04a36826c7e",
   "metadata": {},
   "source": [
    "## Populating the Graph\n",
    "\n",
    "An undirected, edge-weighted graph is used to represent the relationships between tracks.\n",
    "\n",
    "A track is \"connected\" to another track in the graph if they have a playlist in common. These connections are weighted. For example, if a track and some other track share 20 playlists, their connection has a strong weight. On the other hand, if a track and some other track share only 1 playlist, their connection is weak. Thus, the relationships between all spotify tracks can be represented as a undirected, edge-weighted graph, where the tracks are nodes. The neighbors of a node with the strongest connections are therefore the songs that should be recommended.\n",
    "\n",
    "Intuitively, this makes sense. If you like a song and 20 other playlists have that song with another song, then that other song should be recommended.\n",
    "\n",
    "### Why RustworkX\n",
    "\n",
    "Using Python's built-in data structures would take significantly longer (hours) and take up much more memory. On the other hand, RustworkX uses Rust to populate the graph in less than a minute, using much less memory in the process."
   ]
  },
  {
   "cell_type": "code",
   "execution_count": 5,
   "id": "5a775bc7-39fb-4712-8c2f-677626a7076d",
   "metadata": {},
   "outputs": [
    {
     "name": "stdout",
     "output_type": "stream",
     "text": [
      "CPU times: user 55.4 s, sys: 109 ms, total: 55.5 s\n",
      "Wall time: 55.7 s\n"
     ]
    }
   ],
   "source": [
    "%%time\n",
    "graph = rx.PyGraph(multigraph=False)\n",
    "\n",
    "for k, v in uriToData.items():\n",
    "    graph.add_node(k)\n",
    "\n",
    "for i in range(numPlaylists):\n",
    "    playlist = allPlaylists[i, :]\n",
    "    for j in range(70):\n",
    "        if playlist[j] == -1:\n",
    "            break\n",
    "        for k in range(j + 1, 70):\n",
    "            if playlist[k] == -1:\n",
    "                break\n",
    "            if graph.has_edge(playlist[j], playlist[k]):\n",
    "                graph.update_edge(playlist[j], playlist[k], graph.get_edge_data(playlist[j], playlist[k]) + 1)\n",
    "            else:\n",
    "                graph.add_edge(playlist[j], playlist[k], 1)\n",
    "        "
   ]
  },
  {
   "cell_type": "markdown",
   "id": "7622a3eb-b65b-44c7-8c5d-343fd5e59ec5",
   "metadata": {},
   "source": [
    "## Creating an API for our Model\n",
    "\n",
    "Creating a few functions to easily get recommendations from our model and print recommendations to the console."
   ]
  },
  {
   "cell_type": "code",
   "execution_count": 6,
   "id": "1b255ba7-e7fd-47b1-b279-5969f1106d62",
   "metadata": {},
   "outputs": [],
   "source": [
    "# functions for interfacing with adjacency matrix and maps\n",
    "\n",
    "def get_uri(url):\n",
    "    parts = url.split('/')\n",
    "    return parts[len(parts) - 1]\n",
    "\n",
    "def get_recommendations(url, numRecs=5):\n",
    "    try:\n",
    "        trackIdx = uriToData[get_uri(url)][0]\n",
    "    except KeyError:\n",
    "        print(\"song not found in database\")\n",
    "        return None\n",
    "    recommendations = sorted(dict(graph.incident_edge_index_map(trackIdx)).items(), key=lambda x: x[1][2], reverse=True)\n",
    "    result = []\n",
    "    for i in range(len(recommendations)):\n",
    "        if i >= numRecs:\n",
    "            break\n",
    "        result.append((uriToData[graph[recommendations[i][1][1]]][1], recommendations[i][1][2], uriToData[graph[recommendations[i][1][1]]][2]))\n",
    "    return result\n",
    "\n",
    "def print_recommendations(recs):\n",
    "    if recs is None:\n",
    "        print(\"no recommendations\")\n",
    "        return\n",
    "    for recSong, numAprs, artist in recs:\n",
    "        print(f\"{recSong} by {artist} - {numAprs}\")"
   ]
  },
  {
   "cell_type": "markdown",
   "id": "0bda70cf-190c-4c7c-a3d2-ac5b63b86ac7",
   "metadata": {},
   "source": [
    "## Model Performance\n",
    "\n",
    "10 recommendations for a track are retrieved in sub-5ms and O(1) time. This makes it good enough for web app integration."
   ]
  },
  {
   "cell_type": "code",
   "execution_count": 11,
   "id": "0a62c19b-de97-41b4-9a6e-c8f1340bf92e",
   "metadata": {
    "scrolled": true
   },
   "outputs": [
    {
     "name": "stdout",
     "output_type": "stream",
     "text": [
      "CPU times: user 1.02 ms, sys: 12 μs, total: 1.03 ms\n",
      "Wall time: 1.05 ms\n"
     ]
    }
   ],
   "source": [
    "%%time\n",
    "\n",
    "# Fluorescent Adolescent by Arctic Monkeys\n",
    "recommendations = get_recommendations(\"https://open.spotify.com/track/7e8utCy2JlSB8dRHKi49xM\", numRecs=10)"
   ]
  },
  {
   "cell_type": "markdown",
   "id": "fef809c2-e1d8-4764-a20b-d41d06fd1709",
   "metadata": {},
   "source": [
    "### Quality of Recommendations\n",
    "\n",
    "The tracks recommended for Fluorescent Adolescent by Arctic Monkeys have some clear similarities with the track. For example, Do I Wanna Know? is also by Arctic Monkeys. Additionally, The Less I Know The Better, Electric Feel, and most of the tracks are also of the alternative rock genre. Lisztomania also has a nostalgic theme."
   ]
  },
  {
   "cell_type": "code",
   "execution_count": 13,
   "id": "6c0ad112-8573-46e5-9279-9c706c1a4fbc",
   "metadata": {
    "scrolled": true
   },
   "outputs": [
    {
     "name": "stdout",
     "output_type": "stream",
     "text": [
      "The Less I Know The Better by Tame Impala - 7\n",
      "Electric Feel by MGMT - 6\n",
      "Feels Like We Only Go Backwards by Tame Impala - 5\n",
      "Houdini by Foster The People - 5\n",
      "Do I Wanna Know? by Arctic Monkeys - 5\n",
      "Pumped Up Kicks by Foster The People - 4\n",
      "A-Punk by Vampire Weekend - 4\n",
      "Lisztomania by Phoenix - 4\n",
      "Take a Walk by Passion Pit - 4\n",
      "Something Good Can Work by Two Door Cinema Club - 4\n"
     ]
    }
   ],
   "source": [
    "print_recommendations(recommendations)"
   ]
  },
  {
   "cell_type": "markdown",
   "id": "0cae9296-07dc-4495-bddc-b09088b1230d",
   "metadata": {},
   "source": [
    "## Exporting Model and Data for Deployment\n",
    "\n",
    "To deploy our model on a web API, we need the graph to retrieve recommendations. We also need a datastructure to efficiently store and retrieve the uri, name, artist, and graph index data for all the tracks, so we can display the graph's recommendations.\n",
    "\n",
    "The graph will be saved as a pickle file, so we can load it into a flask application (check out the api folder). We will save the uri, name, artist, and graph index data as a csv file so it can be imported into a SQL table. \n",
    "\n",
    "### Why SQL over Python Dictionary\n",
    "\n",
    "The reason why we will use SQL instead of loading a Python Dictionary into Flask is SQL's B-tree indices. Firstly, SQL's B-tree indices can retrieve data from millions of records in the order of milliseconds, which is a lot faster than Python's Dictionaries. Secondly, we want an autocompleting search bar in our web app, so SQL's \"LIKE\" statement with wildcard String patterns and lightning-fast indexing will enable us to provide fast autocomplete suggestions."
   ]
  },
  {
   "cell_type": "code",
   "execution_count": 8,
   "id": "1ae7983c-0d47-4c74-b30c-21922826d170",
   "metadata": {},
   "outputs": [],
   "source": [
    "with open('./web/recommendation_graph.pkl', 'wb+') as f:\n",
    "    pickle.dump(graph, f)\n",
    "\n",
    "import csv\n",
    "\n",
    "with open('names.csv', 'w+', newline='') as csvfile:\n",
    "    fieldnames = ['uri', 'name', 'artist', 'graph_index']\n",
    "    writer = csv.DictWriter(csvfile, fieldnames=fieldnames, quoting=csv.QUOTE_ALL)\n",
    "    writer.writeheader()\n",
    "    for k, v in uriToData.items():\n",
    "        writer.writerow({'uri': k, 'name': v[1], 'artist': v[2], 'graph_index': v[0]})"
   ]
  }
 ],
 "metadata": {
  "kernelspec": {
   "display_name": "Python 3 (ipykernel)",
   "language": "python",
   "name": "python3"
  },
  "language_info": {
   "codemirror_mode": {
    "name": "ipython",
    "version": 3
   },
   "file_extension": ".py",
   "mimetype": "text/x-python",
   "name": "python",
   "nbconvert_exporter": "python",
   "pygments_lexer": "ipython3",
   "version": "3.10.11"
  }
 },
 "nbformat": 4,
 "nbformat_minor": 5
}
